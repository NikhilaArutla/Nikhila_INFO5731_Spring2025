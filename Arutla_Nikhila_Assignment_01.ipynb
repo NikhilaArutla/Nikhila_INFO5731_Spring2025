{
  "cells": [
    {
      "cell_type": "markdown",
      "metadata": {
        "id": "view-in-github",
        "colab_type": "text"
      },
      "source": [
        "<a href=\"https://colab.research.google.com/github/NikhilaArutla/Nikhila_INFO5731_Spring2025/blob/main/Arutla_Nikhila_Assignment_01.ipynb\" target=\"_parent\"><img src=\"https://colab.research.google.com/assets/colab-badge.svg\" alt=\"Open In Colab\"/></a>"
      ]
    },
    {
      "cell_type": "markdown",
      "metadata": {
        "id": "Ryk8D1Q4Wsrp"
      },
      "source": [
        "# **INFO5731 Assignment - 1**"
      ]
    },
    {
      "cell_type": "markdown",
      "source": [
        "This assignment includes range of programming tasks and data analysis exercises, aiming to enhance your Python skills and proficiency in string manipulation, numerical computations, and data science. Follow the instructions carefully and design well-structured Python programs to address each question.\n",
        "\n",
        "\n",
        "1.  Question 1-5 using AI assistance is strictly prohibted\n",
        "2.  Question 6-7 AI assitance is recommended by following guidelines.\n",
        "\n",
        "Guidelines and expectations file can be found in week 2 module.\n",
        "\n",
        "Late Submission will have a penalty of 10% reduction for each day after the deadline."
      ],
      "metadata": {
        "id": "qcP6re2g5A5r"
      }
    },
    {
      "cell_type": "markdown",
      "metadata": {
        "id": "JkzR8cFAyGik"
      },
      "source": [
        "# Question 1 (10 points).\n",
        "\n",
        "The formula that describes the volume V of a hemisphere with radius r is the following:\n",
        "\n",
        "$ V=\\frac{2}{3}\\ast\\ \\pi\\ast\\ r^3 $\n",
        "\n",
        "Write a program to calculate the value of V when r is in the range of even numbers from 1-20. Output the result in the following format:\n",
        "\n",
        "\tr\tV\n",
        "\t2\t…\n",
        "\t4\t…\n",
        "\t6\t…\n",
        "\t.\n",
        "\t.\n",
        "\t.\n",
        "\t20\t…\n"
      ]
    },
    {
      "cell_type": "code",
      "execution_count": 19,
      "metadata": {
        "id": "jDyTKYs-yGit",
        "colab": {
          "base_uri": "https://localhost:8080/"
        },
        "outputId": "10084ea8-d5c7-4264-ee62-d1fe3dfdb861"
      },
      "outputs": [
        {
          "output_type": "stream",
          "name": "stdout",
          "text": [
            "r\tV\n",
            "2\t16.76\n",
            "4\t134.04\n",
            "6\t452.39\n",
            "8\t1072.33\n",
            "10\t2094.40\n",
            "12\t3619.11\n",
            "14\t5747.02\n",
            "16\t8578.64\n",
            "18\t12214.51\n",
            "20\t16755.16\n"
          ]
        }
      ],
      "source": [
        "import math\n",
        "print(\"r\\tV\")\n",
        "for r in range(2, 21, 2):\n",
        "    volume = (2 / 3) * math.pi * (r ** 3)\n",
        "    print(f\"{r}\\t{volume:.2f}\")"
      ]
    },
    {
      "cell_type": "markdown",
      "metadata": {
        "id": "90_NR8c5XGWc"
      },
      "source": [
        "# Question 2 (10 points)\n",
        "\n",
        "(a) Write a Python program to generate a sequence of 12 random numbers falling within the range of 50 to 150.\n",
        "\n",
        "(b) Arrange the generated numbers in ascending order. Display the sorted list.\n",
        "\n",
        "(c) Extend the program to arrange the numbers in descending order as well. Present the sorted list accordingly.\n",
        "\n",
        "(d) Compute and output the average of the entire group of generated numbers.\n",
        "\n",
        "(e) Enhance the program to calculate and display the average of the first 6 numbers from both the ascending and descending sorted lists."
      ]
    },
    {
      "cell_type": "code",
      "execution_count": 20,
      "metadata": {
        "id": "5QX6bJjGWXY9",
        "colab": {
          "base_uri": "https://localhost:8080/"
        },
        "outputId": "e5dec79e-dcff-4925-fce6-20c6e54d96f1"
      },
      "outputs": [
        {
          "output_type": "stream",
          "name": "stdout",
          "text": [
            "(a): Generated Numbers: [146, 110, 148, 78, 126, 146, 123, 108, 150, 68, 126, 139]\n",
            "(b): Numbers in Ascending Order: [68, 78, 108, 110, 123, 126, 126, 139, 146, 146, 148, 150]\n",
            "(c): Numbers in Descending Order: [150, 148, 146, 146, 139, 126, 126, 123, 110, 108, 78, 68]\n",
            "(d): Average of All Numbers: 122.33\n",
            "(e): Average of First 6 Numbers (Ascending Order): 102.17\n",
            "(e): Average of First 6 Numbers (Descending Order): 142.5\n",
            "(e): Combined Average of First 6 Numbers (Ascending and Descending): 122.33\n"
          ]
        }
      ],
      "source": [
        "# Write code for each of the sub parts with proper comments.\n",
        "\n",
        "\n",
        "import random                              # importing random module to generate random numbers\n",
        "\n",
        "# (a) Generating 12 random numbers between 50 and 150\n",
        "numbers = []                               # creating an empty list to store the numbers\n",
        "for i in range(12):                        # looping 12 times\n",
        "    num = random.randint(50, 150)          # picking a random number between 50 and 150\n",
        "    numbers.append(num)                    # adding the number to the list\n",
        "print(\"(a): Generated Numbers:\", numbers)  # printing the list of random numbers\n",
        "\n",
        "# (b) Sorting the numbers in ascending order\n",
        "ascending_numbers = sorted(numbers)                           # sorting the list in ascending order\n",
        "print(\"(b): Numbers in Ascending Order:\", ascending_numbers)  # printing the sorted list\n",
        "\n",
        "# (c) Sorting the numbers in descending order\n",
        "descending_numbers = sorted(numbers, reverse=True)              # sorting the list in descending order\n",
        "print(\"(c): Numbers in Descending Order:\", descending_numbers)  # printing the sorted list\n",
        "\n",
        "# (d) Calculating the average of all the numbers\n",
        "total_sum = sum(numbers)                                      # finding the sum of all numbers\n",
        "count = len(numbers)                                          # counting how many numbers are there\n",
        "average_all = total_sum / count                               # calculating the average\n",
        "print(\"(d): Average of All Numbers:\", round(average_all, 2))  # printing the average rounded to 2 decimal places\n",
        "\n",
        "# (e) Calculating the average of the first 6 numbers in ascending and descending lists\n",
        "# First 6 numbers in ascending list\n",
        "first_6_ascending = ascending_numbers[:6]                                                         # getting the first 6 numbers from the ascending list\n",
        "average_first_6_ascending = sum(first_6_ascending) / 6                                            # calculating their average\n",
        "print(\"(e): Average of First 6 Numbers (Ascending Order):\", round(average_first_6_ascending, 2))  # printing the average\n",
        "\n",
        "# First 6 numbers in descending list\n",
        "first_6_descending = descending_numbers[:6]                                                         # getting the first 6 numbers from the descending list\n",
        "average_first_6_descending = sum(first_6_descending) / 6                                            # calculating their average\n",
        "print(\"(e): Average of First 6 Numbers (Descending Order):\", round(average_first_6_descending, 2))  # printing the average\n",
        "\n",
        "# Average of both ascending and descending first 6 numbers combined\n",
        "combined_average = (average_first_6_ascending + average_first_6_descending) / 2                            # calculating the combined average\n",
        "print(\"(e): Combined Average of First 6 Numbers (Ascending and Descending):\", round(combined_average, 2))  # printing the combined average\n"
      ]
    },
    {
      "cell_type": "markdown",
      "metadata": {
        "id": "1F_PZdH9Sh49"
      },
      "source": [
        "# Question 3 (10 points).\n",
        "\n",
        "Create a Python program that encompasses various string manipulation task:\n",
        "\n",
        "(a) Prompt the user to input two sentences.\n",
        "\n",
        "(b) Transform each sentence into a list, where each element corresponds to a word in the sentence. For example, if the sentences are \"Hello, how are you doing today?\" and \"This is an example sentence for the program!\"\n",
        "\n",
        "The program should output:\n",
        "['Hello', ',', 'how', 'are', 'you', 'doing', 'today', '?', 'This', 'is', 'an', 'example', 'sentence', 'for', 'the', 'program', '!']\n",
        "\n",
        "(c) Compare the two sentences. Print out a list of words that occur in both sentences.\n",
        "\n",
        "(d) Remove any punctuation from the sentence and print the sanitized sentences. It should remove at least the following characters, but it can remove more: period(“.”), comma (“,”), semicolon (“;”), and colon (“:”).\n",
        "\n",
        "(e) Count the number of vowels in each of the sentences. Print out each vowel and the occurrences  in the each of the two sentences separately, such as:\n",
        "\n",
        "Sentence1: a:2, e:2, i:0, etc.\n",
        "Sentence2: a:1, e:2, i:2, etc.\n",
        "\n",
        "Design a well-structured Python program to execute these tasks efficiently."
      ]
    },
    {
      "cell_type": "code",
      "execution_count": 41,
      "metadata": {
        "id": "Y0oOSlsOS0cq",
        "colab": {
          "base_uri": "https://localhost:8080/"
        },
        "outputId": "8ce522e7-78e3-4500-983d-beb7193b0977"
      },
      "outputs": [
        {
          "output_type": "stream",
          "name": "stdout",
          "text": [
            "(a): Enter the first sentence: Hi, How are you doing today?\n",
            "(a): Enter the second sentence: Hey! I am doing great today.\n",
            "(b): List of all words from both sentences: [['Hi', ',', 'How', 'are', 'you', 'doing', 'today', '?', 'Hey', '!', 'I', 'am', 'doing', 'great', 'today', '.']]\n",
            "(c): Common words in both sentences: ['doing', 'today']\n",
            "(d): Sanitized First Sentence: Hi How are you doing today\n",
            "(d): Sanitized Second Sentence: Hey I am doing great today\n",
            "(e): Number of vowels in First Sentence: a:2, e:1, i:2, o:4, u:1\n",
            "(e): Nnumber of vowels in Second Sentence: a:3, e:2, i:2, o:2, u:0\n"
          ]
        }
      ],
      "source": [
        "# Your code here\n",
        "\n",
        "# (a) Prompting the user to input two sentences\n",
        "sentence1 = input(\"(a): Enter the first sentence: \")\n",
        "sentence2 = input(\"(a): Enter the second sentence: \")\n",
        "\n",
        "# (b) Transforming each sentence into a list of words\n",
        "words1 = sentence1.split()\n",
        "words2 = sentence2.split()\n",
        "\n",
        "# (b) Combining both word lists\n",
        "import re\n",
        "\n",
        "words1 = re.findall(r'\\w+|[^\\w\\s]', sentence1)\n",
        "words2 = re.findall(r'\\w+|[^\\w\\s]', sentence2)\n",
        "\n",
        "combined_words = [words1 + words2]\n",
        "print(\"(b): List of all words from both sentences:\", combined_words)\n",
        "\n",
        "# (c) Compare the two sentences and find common words\n",
        "common_words = list(set(words1) & set(words2))\n",
        "print(\"(c): Common words in both sentences:\", common_words)\n",
        "\n",
        "# (d) Removing punctuation from sentences\n",
        "import string\n",
        "\n",
        "def remove_punctuation(text):\n",
        "    sanitize_text = ''.join(char for char in text if char not in string.punctuation)\n",
        "    return sanitize_text\n",
        "\n",
        "sanitize_sentence1 = remove_punctuation(sentence1)\n",
        "sanitize_sentence2 = remove_punctuation(sentence2)\n",
        "print(\"(d): Sanitized First Sentence:\", sanitize_sentence1)\n",
        "print(\"(d): Sanitized Second Sentence:\", sanitize_sentence2)\n",
        "\n",
        "# (e) Counting the number of vowels in each sentence\n",
        "def count_vowels(text):\n",
        "    vowels = 'aeiou'\n",
        "    text = text.lower()  # converting text to lowercase for easy comparison\n",
        "    vowel_count = {v: text.count(v) for v in vowels}\n",
        "    return vowel_count\n",
        "\n",
        "vowel_count1 = count_vowels(sanitize_sentence1)\n",
        "vowel_count2 = count_vowels(sanitize_sentence2)\n",
        "\n",
        "# Displaying vowel counts for both sentences\n",
        "print(f\"(e): Number of vowels in First Sentence: a:{vowel_count1['a']}, e:{vowel_count1['e']}, i:{vowel_count1['i']}, o:{vowel_count1['o']}, u:{vowel_count1['u']}\")\n",
        "print(f\"(e): Nnumber of vowels in Second Sentence: a:{vowel_count2['a']}, e:{vowel_count2['e']}, i:{vowel_count2['i']}, o:{vowel_count2['o']}, u:{vowel_count2['u']}\")\n",
        "\n"
      ]
    },
    {
      "cell_type": "markdown",
      "source": [
        "# Question 4 (10 Points)"
      ],
      "metadata": {
        "id": "OP4-5qxAtInv"
      }
    },
    {
      "cell_type": "markdown",
      "source": [
        "Design and implement a simple command-line calculator program. The program should handle both integers and floating-point numbers.\n",
        "\n",
        "(a) Write program that takes a mathematical expression as input and evaluates it. The program should support addition, subtraction, multiplication, and division.\n",
        "\n",
        "(b) Extend the calculator to handle parentheses in mathematical expressions. Implement the necessary logic to evaluate expressions with nested parentheses.\n",
        "\n",
        "(c) Enhance your calculator to include additional mathematical operations such as exponentiation, square root, and modulus.\n",
        "\n",
        "(d) Implement error handling in the calculator program. Handle cases such as division by zero and invalid input expressions. Provide meaningful error messages.\n",
        "\n",
        "(e) Implement a command to exit the calculator."
      ],
      "metadata": {
        "id": "uzN4_hDptK9U"
      }
    },
    {
      "cell_type": "code",
      "source": [
        "# Your code here"
      ],
      "metadata": {
        "id": "8nQnVxjJuYtu"
      },
      "execution_count": null,
      "outputs": []
    },
    {
      "cell_type": "markdown",
      "metadata": {
        "id": "z3tBE7E-Xn5X"
      },
      "source": [
        "# Question 5 (20 points).\n",
        "\n",
        "In the field of Data Science, data is often formatted as a comma-delimited (CSV) file, where each line in a file corresponds to a field's value. Refer to Chapter 9 (p. 106) for more information on comma-delimited files.\n",
        "\n",
        "To answer this question, you will need to download the file [Assignment1_denton_housing.csv](https://raw.githubusercontent.com/unt-iialab/info5731-spring2022/main/assignments/Assignment1_denton_housing.csv) included with this assignment. The file contains statistics about housing in the city of Denton from 2008 to 2014. Write a program to implement the following questions.\n",
        "\n",
        "(a) (5 pts) Calculate the difference in the number of Occupied Housing Units from year to year and print it. The difference must be calculated for the consecutive years such as 2008-2009, 2009-2010 etc. Finally, print the values in the ascending order.\n",
        "\n",
        "(b) (5 pts) For all the years, calculate the percentage of housing units which are vacant an occupied. Print the results in the following format:\n",
        "\n",
        "Year Vacant Housing Units Occupied Housing Units\n",
        "\n",
        "    2008  30%   70%                          \n",
        "\t2009 ----- -----\n",
        "\t2010 ----- -----\n",
        "    2011 ----- -----\n",
        "\t2012 ----- -----\n",
        "    2013 ----- -----\n",
        "\t2014 ----- -----\n",
        "  \n",
        "  \n",
        "\n",
        "(c) (5 pts) Calculate and print the valued and years in which the highest number of housing units were vacant and occupied. Print the results in the following format:  \n",
        "\n",
        "                              Year\tValue\n",
        "\tVacant Housing Units\t  -----   -----\n",
        "\tOccupied Housing Units\t-----   -----\n",
        "\n",
        "(d) (5 pts) Calculate the harmonic mean of the total housing units and print it out. You can find the information about harmonic mean here: https://ncalculators.com/statistics/harmonic-mean-calculator.htm"
      ]
    },
    {
      "cell_type": "code",
      "execution_count": null,
      "metadata": {
        "id": "lqGYuHBhcsRH"
      },
      "outputs": [],
      "source": [
        " # Your code here\n",
        "\n",
        "\n"
      ]
    },
    {
      "cell_type": "markdown",
      "source": [
        "# **For question 6 and 7 you can take AI assitance to solve.**\n",
        "\n",
        "Make sure you follow the instructions given in class to answer these questions.\n",
        "\n",
        "\n",
        "**Important points:**\n",
        "\n",
        "1.   You must come up with at least 10 edge cases.\n",
        "2.   You should provide prompts and revised prompts given to ChatGPT.\n",
        "2.   Debug your code and write comments for each block of code\n",
        "3.   Analyzing error will not consider as edge case.\n",
        "\n",
        "Edge cases are like real life scienarios which are realated to the given question."
      ],
      "metadata": {
        "id": "DB9XtkavJmsO"
      }
    },
    {
      "cell_type": "markdown",
      "source": [
        "# Question 6 (20 points).\n",
        "Develop a advance Python program to manage inventory records for a prodcut managing company. The system needs functions for adding, deleting and changing products and basic search options. Your system should use CSV files to automate restocking and produce reports that show item values alongside category breakdowns. Manage edge cases and corrupted CSV files. Finally maintaine 50 products of different categories in inventory."
      ],
      "metadata": {
        "id": "BAfp-70D2Cay"
      }
    },
    {
      "cell_type": "code",
      "source": [
        "# Your code here"
      ],
      "metadata": {
        "id": "w8dE2dJb2quE"
      },
      "execution_count": null,
      "outputs": []
    },
    {
      "cell_type": "markdown",
      "source": [
        "# Question 7 (20 points)\n",
        "\n",
        "Create a well desined Python program for a flight booking system. Offer core functions for adding new flights, finding trips, reserving and releasing seating space and creating performance reports. Ensure the system manages edge cases like invalid input, overbooking, and cancellations. Finally, extend the booking system by including advanced features and maintain about 50 flight in the system."
      ],
      "metadata": {
        "id": "290UJiNg2xES"
      }
    },
    {
      "cell_type": "code",
      "source": [
        "# Your code here\n"
      ],
      "metadata": {
        "id": "dME5iWD53ADa"
      },
      "execution_count": null,
      "outputs": []
    },
    {
      "cell_type": "markdown",
      "source": [
        "# Mandatory Question\n",
        "\n",
        "Provide your thoughts on the assignment. What did you find challenging, and what aspects did you enjoy? Your opinion on the provided time to complete the assignment. Share any suggestions for improvement. Your feedback will be valuable for enhancing the learning experience."
      ],
      "metadata": {
        "id": "q8BFCvWp32cf"
      }
    },
    {
      "cell_type": "code",
      "source": [
        "# Write your response below"
      ],
      "metadata": {
        "id": "_e557s2w4BpK"
      },
      "execution_count": null,
      "outputs": []
    }
  ],
  "metadata": {
    "colab": {
      "provenance": [],
      "include_colab_link": true
    },
    "kernelspec": {
      "display_name": "Python 3 (ipykernel)",
      "language": "python",
      "name": "python3"
    },
    "language_info": {
      "codemirror_mode": {
        "name": "ipython",
        "version": 3
      },
      "file_extension": ".py",
      "mimetype": "text/x-python",
      "name": "python",
      "nbconvert_exporter": "python",
      "pygments_lexer": "ipython3",
      "version": "3.9.12"
    }
  },
  "nbformat": 4,
  "nbformat_minor": 0
}